{
 "cells": [
  {
   "cell_type": "code",
   "execution_count": null,
   "id": "bb6a8d72",
   "metadata": {},
   "outputs": [],
   "source": [
    "import pandas as pd\n",
    "import numpy as np\n",
    "import matplotlib.pyplot as plt\n",
    "import seaborn as sns\n",
    "import os\n",
    "\n",
    "import seaborn as sns\n",
    "\n",
    "from xgboost import XGBRegressor\n",
    "\n",
    "from sklearn.model_selection import train_test_split, GridSearchCV\n",
    "from sklearn.ensemble import RandomForestRegressor\n",
    "from sklearn.metrics import mean_squared_error, mean_absolute_error, r2_score\n",
    "import joblib"
   ]
  },
  {
   "cell_type": "markdown",
   "id": "b69df01b",
   "metadata": {},
   "source": [
    "## Chargement des données"
   ]
  },
  {
   "cell_type": "code",
   "execution_count": null,
   "id": "e542a82d",
   "metadata": {},
   "outputs": [],
   "source": [
    "# Chargement depuis parquet\n",
    "df = pd.read_parquet(\"../data/clean/lille_2022.parquet\")\n",
    "\n",
    "# Filtrer biens avec exactement 4 pièces principales\n",
    "df_4p = df[df['Nombre pieces principales'] == 4].copy()\n",
    "#df_4p = df"
   ]
  },
  {
   "cell_type": "markdown",
   "id": "203a3e7c",
   "metadata": {},
   "source": [
    "## préparation des données immobilières\n",
    "\n",
    "\n",
    "### `colonnes_a_garder`:\n",
    "- Liste les colonnes utiles pour l’analyse des logements (surface, nombre de pièces, valeur, type).\n",
    "\n",
    "### `df_logements = df_4p[colonnes_a_garder].copy()`:\n",
    "- Crée un nouveau DataFrame avec uniquement ces colonnes, afin de travailler sur un sous-ensemble propre.\n",
    "\n",
    "### Calcul de prix_m2 pondéré:\n",
    "- Le prix au m² est ici calculé en prenant en compte la surface bâtie mais aussi une part pondérée de la surface du terrain (30%),\n",
    "car la surface du terrain influence la valeur totale, surtout pour les maisons.\n",
    "\n",
    "### Gestion des valeurs manquantes:\n",
    "- `.fillna(0)` remplace les éventuelles valeurs manquantes de Surface terrain par 0,\n",
    "évitant ainsi une division par NaN ou une erreur lors du calcul.\n",
    "\n"
   ]
  },
  {
   "cell_type": "code",
   "execution_count": null,
   "id": "bd1ac991",
   "metadata": {},
   "outputs": [],
   "source": [
    "colonnes_a_garder = [\n",
    "    'Surface reelle bati',\n",
    "    'Nombre pieces principales',\n",
    "    'Nombre de lots',\n",
    "    'Valeur fonciere',\n",
    "    'Surface terrain',\n",
    "    'Code type local',\n",
    "]\n",
    "\n",
    "# logements\n",
    "df_logements = df_4p[colonnes_a_garder].copy()\n",
    "\n",
    "#Calcul du prix au m² pondéré (surface bâtie + 0.3 * surface terrain) \n",
    "df_logements['prix_m2'] = df_logements['Valeur fonciere'] / df_logements['Surface reelle bati'] + (0.3 * df_logements['Surface terrain'].fillna(0))"
   ]
  },
  {
   "cell_type": "markdown",
   "id": "89431089",
   "metadata": {},
   "source": [
    "### Vérifier les types"
   ]
  },
  {
   "cell_type": "code",
   "execution_count": null,
   "id": "a1c56f7a",
   "metadata": {},
   "outputs": [],
   "source": [
    "df_logements.dtypes"
   ]
  },
  {
   "cell_type": "markdown",
   "id": "a3baf617",
   "metadata": {},
   "source": [
    "## Nettoyage et filtrage des données immobilières\n",
    "\n",
    "Suppression des valeurs aberrantes communes\n",
    "- Ce bloc filtre les logements pour garder uniquement ceux avec des valeurs plausibles :\n",
    "- Valeur foncière entre 500 € et 1,5 million €\n",
    "- Surface bâtie entre 20 et 200 m² (exclut les logements trop petits ou gigantesques)\n",
    "- Prix au m² entre 500 € et 10 000 € (exclut les prix absurdes)\n",
    "\n",
    "Filtres spécifiques aux maisons\n",
    "- La variable is_maison identifie les maisons (Code type local == 1).\n",
    "- On conserve tous les logements qui ne sont pas des maisons, ainsi que\n",
    "- Les maisons seulement si leur surface terrain est raisonnable, entre 100 et 1500 m².\n",
    "Cela permet d’exclure des maisons avec des terrains très petits ou trop grands qui pourraient fausser le modèle.\n",
    "\n",
    "Traitement des valeurs manquantes dans 'Surface terrain' pour les appartements\n",
    "- Pour les appartements (Code type local == 2), la surface terrain est souvent absente (NaN).\n",
    "- Ici, on remplace ces NaN par 0, car les appartements n’ont généralement pas de terrain.\n",
    "- Cela évite des erreurs lors des calculs ou entraînements de modèles.\n",
    "\n",
    "Pourquoi ces étapes sont importantes ?\n",
    "- Elles nettoient les données en éliminant les cas extrêmes ou incohérents.\n",
    "- Elles améliorent la qualité d'entraînement du modèle en gardant un échantillon représentatif.\n",
    "- Elles prennent en compte les spécificités des types de logements pour des règles adaptées."
   ]
  },
  {
   "cell_type": "code",
   "execution_count": null,
   "id": "63168867",
   "metadata": {},
   "outputs": [],
   "source": [
    "# Supprimer les valeurs aberrantes communes\n",
    "df_logements = df_logements[\n",
    "    (df_logements[\"Valeur fonciere\"] > 500) &\n",
    "    (df_logements[\"Valeur fonciere\"] < 1_500_000) &\n",
    "    (df_logements[\"Surface reelle bati\"] >= 20) &\n",
    "    (df_logements[\"Surface reelle bati\"] <= 200) &\n",
    "    (df_logements[\"prix_m2\"] > 500) &\n",
    "    (df_logements[\"prix_m2\"] < 10_000)\n",
    "]\n",
    "\n",
    "# Appliquer les filtres spécifiques aux maisons uniquement\n",
    "is_maison = df_logements[\"Code type local\"] == 1\n",
    "df_logements = df_logements[\n",
    "    ~is_maison | (  # On garde tout sauf les maisons, OU les maisons avec terrain entre 100 et 1500 m²\n",
    "        (df_logements[\"Surface terrain\"] >= 100) & (df_logements[\"Surface terrain\"] <= 1500)\n",
    "    )\n",
    "]\n",
    "\n",
    "# Remplacer Surface terrain NaN par 0 pour les appartements (Code type local == 1)\n",
    "df_logements.loc[\n",
    "    (df_logements[\"Code type local\"] == 2) & (df_logements[\"Surface terrain\"].isna()),\n",
    "    \"Surface terrain\"\n",
    "] = 0"
   ]
  },
  {
   "cell_type": "markdown",
   "id": "3f10c492",
   "metadata": {},
   "source": [
    "## 📊 Visualisation des surfaces bâties\n",
    "Ce graphique compare la surface réelle bâtie pour deux types de logements :\n",
    "\n",
    "- 🏢 Appartements\n",
    "- 🏠 Maisons\n",
    "\n",
    "Deux histogrammes sont affichés côte à côte pour permettre une comparaison visuelle directe.\n",
    "\n",
    "### 🧱 Répartition des surfaces\n",
    "- À gauche : la distribution des surfaces bâties des appartements, en bleu ciel.\n",
    "- À droite : celle des maisons, en rouge saumon.\n",
    "- Chaque barre représente le nombre de logements dans une tranche de surface donnée.\n",
    "\n",
    "### 📍 Médiane visible\n",
    "- Une ligne pointillée est tracée dans chaque histogramme pour indiquer la médiane de la surface bâtie.\n",
    "    - 🟦 Ligne bleue pour les appartements\n",
    "    - 🟥 Ligne rouge pour les maisons\n",
    "\n",
    "Cela permet de voir si la répartition est équilibrée ou non autour de cette valeur centrale.\n",
    "\n",
    "### 📏 Objectif du graphique\n",
    "Ce double histogramme aide à :\n",
    "- Comprendre les différences de taille entre maisons et appartements.\n",
    "- Visualiser si certains types de logements sont plus petits ou plus grands en moyenne.\n",
    "- Détecter d’éventuelles valeurs extrêmes ou des concentrations dans certaines plages.\n",
    "\n",
    "### 🧠 Intérêt de cette comparaison\n",
    "C’est une étape importante dans l’analyse car elle :\n",
    "- Justifie les traitements séparés des maisons et appartements (modèles différents, filtres spécifiques).\n",
    "- Donne des repères pour identifier les valeurs aberrantes ou peu fréquentes.\n",
    "- Aide à mieux calibrer les modèles de prédiction du prix au m² en tenant compte du type de logement."
   ]
  },
  {
   "cell_type": "code",
   "execution_count": null,
   "id": "57a931a3",
   "metadata": {},
   "outputs": [],
   "source": [
    "fig, axes = plt.subplots(1, 2, figsize=(14, 5), sharey=True)\n",
    "\n",
    "# Paramètres communs\n",
    "bins = 30\n",
    "edge_color = 'white'\n",
    "\n",
    "# appartements surface\n",
    "axes[0].hist(df_logements[df_logements['Code type local'] == 2]['Surface reelle bati'], bins=bins, color='skyblue', edgecolor=edge_color)\n",
    "axes[0].set_title(\"Répartition des Surface reelle bati - Appartements\")\n",
    "axes[0].set_xlabel(\"Surface reelle bati\")\n",
    "axes[0].set_ylabel(\"Nombre de logements\")\n",
    "axes[0].grid(True)\n",
    "\n",
    "# Maisons surface\n",
    "axes[1].hist(df_logements[df_logements['Code type local'] == 1]['Surface reelle bati'], bins=bins, color='salmon', edgecolor=edge_color)\n",
    "axes[1].set_title(\"Répartition des Surface terrain - Maisons\")\n",
    "axes[1].set_xlabel(\"Surface reelle bati\")\n",
    "axes[1].grid(True)\n",
    "\n",
    "# Ligne médiane\n",
    "axes[0].axvline(df_logements[df_logements['Code type local'] == 2]['Surface reelle bati'].median(), color='blue', linestyle='--', label='Médiane')\n",
    "axes[1].axvline(df_logements[df_logements['Code type local'] == 1]['Surface reelle bati'].median(), color='red', linestyle='--', label='Médiane')\n",
    "axes[0].legend()\n",
    "axes[1].legend()"
   ]
  },
  {
   "cell_type": "markdown",
   "id": "64cd5b3d",
   "metadata": {},
   "source": [
    "## 💶 Répartition des prix au m² par type de logement\n",
    "Ce graphique compare les prix au m² pour deux types de logements :\n",
    "\n",
    "- 🏢 Appartements\n",
    "- 🏠 Maisons\n",
    "\n",
    "Deux histogrammes sont présentés côte à côte pour observer les différences de distribution.\n",
    "\n",
    "## 📊 Que montre le graphique ?\n",
    "- À gauche : la distribution des prix au m² pour les appartements.\n",
    "- À droite : celle des maisons.\n",
    "- Chaque barre représente le nombre de logements dans une tranche de prix au m².\n",
    "\n",
    "## 📍 Ligne de médiane\n",
    "- Une ligne pointillée indique la médiane du prix au m² :\n",
    "    - 🔵 Ligne bleue pour les appartements\n",
    "    - 🔴 Ligne rouge pour les maisons\n",
    "\n",
    "Cela permet de voir rapidement si les prix sont centrés ou asymétriques.\n",
    "\n",
    "## 🧠 Pourquoi c’est utile ?\n",
    "- Permet de comparer visuellement les niveaux de prix entre maisons et appartements.\n",
    "- Aide à détecter des valeurs extrêmes (logements très chers ou très bon marché).\n",
    "- Justifie encore une fois l’intérêt de modéliser séparément les maisons et les appartements.\n",
    "- Peut servir de base pour définir des seuils de nettoyage ou d’analyse (valeurs aberrantes, segments premium, etc.)"
   ]
  },
  {
   "cell_type": "code",
   "execution_count": null,
   "id": "f6b646c0",
   "metadata": {},
   "outputs": [],
   "source": [
    "import matplotlib.pyplot as plt\n",
    "\n",
    "#appartements\n",
    "fig, axes = plt.subplots(1, 2, figsize=(14, 5), sharey=True)\n",
    "\n",
    "# Paramètres communs\n",
    "bins = 30\n",
    "edge_color = 'white'\n",
    "\n",
    "# appartements prix_m2\n",
    "axes[0].hist(df_logements[df_logements['Code type local'] == 2]['prix_m2'], bins=bins, color='skyblue', edgecolor=edge_color)\n",
    "axes[0].set_title(\"Répartition des prix_m2 - Appartements\")\n",
    "axes[0].set_xlabel(\"prix_m2\")\n",
    "axes[0].set_ylabel(\"Nombre de logements\")\n",
    "axes[0].grid(True)\n",
    "\n",
    "# Maisons prix_m2\n",
    "axes[1].hist(df_logements[df_logements['Code type local'] == 1]['prix_m2'], bins=bins, color='salmon', edgecolor=edge_color)\n",
    "axes[1].set_title(\"Répartition des prix_m2 - Maisons\")\n",
    "axes[1].set_xlabel(\"prix_m2\")\n",
    "axes[1].grid(True)\n",
    "\n",
    "# Ligne médiane\n",
    "axes[0].axvline(df_logements[df_logements['Code type local'] == 2]['prix_m2'].median(), color='blue', linestyle='--', label='Médiane')\n",
    "axes[1].axvline(df_logements[df_logements['Code type local'] == 1]['prix_m2'].median(), color='red', linestyle='--', label='Médiane')\n",
    "axes[0].legend()\n",
    "axes[1].legend()"
   ]
  },
  {
   "cell_type": "markdown",
   "id": "3e07ca0b",
   "metadata": {},
   "source": [
    "## 📈 Analyse de corrélation – Appartements\n",
    "Cette étape permet d’analyser les relations statistiques entre le prix au m² et les autres variables pour les appartements uniquement.\n",
    "\n",
    "### 🔍 Objectif\n",
    "Identifier quelles caractéristiques influencent le plus le prix au m².\n",
    "Cela nous aide à :\n",
    "\n",
    "- Comprendre les facteurs importants dans la valorisation immobilière 🏢\n",
    "- Sélectionner les variables les plus pertinentes pour l'entraînement du modèle 🔬\n",
    "\n",
    "### 📊 Résultat attendu\n",
    "Une liste triée de corrélations avec la variable cible prix_m2.\n",
    "Chaque ligne montre :\n",
    "\n",
    "- 🔢 Le nom de la variable\n",
    "- 🔁 Une valeur de corrélation comprise entre -1 et +1\n",
    "\n",
    "|Corrélation|\tInterprétation\n",
    "|---|---\n",
    "|🔵 Proche de +1|\tForte corrélation positive (la variable augmente avec le prix)\n",
    "|🔴 Proche de -1|\tForte corrélation négative (la variable diminue quand le prix augmente)\n",
    "|⚪ Proche de 0|\tAucune corrélation (peu ou pas de lien)\n",
    "\n",
    "### 🧠 Pourquoi c’est utile ?\n",
    "- ✅ Pour la sélection de variables lors du machine learning\n",
    "- ⚠️ Pour repérer les variables inutiles ou redondantes\n",
    "- 🔎 Pour comprendre les leviers économiques dans le marché immobilier des appartements"
   ]
  },
  {
   "cell_type": "code",
   "execution_count": null,
   "id": "e5156dca",
   "metadata": {},
   "outputs": [],
   "source": [
    "print(\"Corrélations Appartements :\")\n",
    "print(df_logements.corr()[\"prix_m2\"].sort_values(ascending=False))"
   ]
  },
  {
   "cell_type": "markdown",
   "id": "ea41a029",
   "metadata": {},
   "source": [
    "## 🔥 Visualisation de la Corrélation : Matrice Heatmap\n",
    "\n",
    "Ce bloc de code permet de visualiser la force des liens entre plusieurs variables du dataset immobilier, sous forme de carte de chaleur (heatmap).\n",
    "\n",
    "### 🎯 Objectif\n",
    "Afficher de manière visuelle les corrélations entre :\n",
    "- prix_m2 (cible)\n",
    "- Valeur fonciere\n",
    "- Code type local (1 = maison, 2 = appartement)\n",
    "- Surface terrain\n",
    "- Surface reelle bati\n",
    "- Nombre pieces principales\n",
    "\n",
    "### 🧪 Pourquoi c’est utile ?\n",
    "- Repérer rapidement quelles variables sont pertinentes pour expliquer le prix\n",
    "- Détecter des corrélations suspectes ou redondantes (ex : surface vs valeur foncière)\n",
    "- Affiner la sélection des variables pour l'entraînement de modèles machine learning 🧠"
   ]
  },
  {
   "cell_type": "code",
   "execution_count": null,
   "id": "88b1290d",
   "metadata": {},
   "outputs": [],
   "source": [
    "corr = df_logements[[\"prix_m2\", \"Valeur fonciere\", \"Code type local\",\n",
    "           \"Surface terrain\", \"Surface reelle bati\", \"Nombre pieces principales\"]].corr()\n",
    "\n",
    "sns.heatmap(corr, annot=True, cmap=\"coolwarm\")\n",
    "plt.title(\"Matrice de corrélation\")\n",
    "plt.show()"
   ]
  },
  {
   "cell_type": "markdown",
   "id": "1fef83c4",
   "metadata": {},
   "source": [
    "## Préparer les données pour l'entraînement"
   ]
  },
  {
   "cell_type": "code",
   "execution_count": null,
   "id": "a235967b",
   "metadata": {},
   "outputs": [],
   "source": [
    "from sklearn.model_selection import train_test_split\n",
    "\n",
    "# Variables explicatives\n",
    "features = [\"Valeur fonciere\", \"Code type local\", \"Surface terrain\", \"Surface reelle bati\"]\n",
    "X = df_logements[features]\n",
    "\n",
    "# Variable cible\n",
    "y = df_logements[\"prix_m2\"]\n",
    "\n",
    "# Division en jeu d'entraînement (80%) et test (20%)\n",
    "X_train, X_test, y_train, y_test = train_test_split(X, y, test_size=0.2, random_state=42)"
   ]
  },
  {
   "cell_type": "markdown",
   "id": "ebe94b92",
   "metadata": {},
   "source": [
    "## Entraîner les modèles de base avec scikit-learn"
   ]
  },
  {
   "cell_type": "code",
   "execution_count": null,
   "id": "4f0accd9",
   "metadata": {},
   "outputs": [],
   "source": [
    "from sklearn.linear_model import LinearRegression\n",
    "from sklearn.tree import DecisionTreeRegressor\n",
    "from sklearn.ensemble import RandomForestRegressor\n",
    "\n",
    "# Modèles de base\n",
    "lr = LinearRegression()\n",
    "dt = DecisionTreeRegressor(random_state=42)\n",
    "rf = RandomForestRegressor(random_state=42)\n",
    "\n",
    "# Entraînement\n",
    "lr.fit(X_train, y_train)\n",
    "dt.fit(X_train, y_train)\n",
    "rf.fit(X_train, y_train)"
   ]
  },
  {
   "cell_type": "markdown",
   "id": "3d37da53",
   "metadata": {},
   "source": [
    "## Optimiser les modèles d’arbres avec GridSearchCV"
   ]
  },
  {
   "cell_type": "code",
   "execution_count": null,
   "id": "ae35aeac",
   "metadata": {},
   "outputs": [],
   "source": [
    "# Optimisation DecisionTreeRegressor\n",
    "param_dt = {\n",
    "    \"max_depth\": [3, 5, 10, None],\n",
    "    \"min_samples_split\": [2, 5, 10]\n",
    "}\n",
    "\n",
    "grid_dt = GridSearchCV(DecisionTreeRegressor(random_state=42), param_dt, cv=5, scoring='neg_mean_squared_error')\n",
    "grid_dt.fit(X_train, y_train)\n",
    "dt_best = grid_dt.best_estimator_\n",
    "\n",
    "# 🔍 Optimisation RandomForestRegressor\n",
    "param_rf = {\n",
    "    \"n_estimators\": [50, 100],\n",
    "    \"max_depth\": [5, 10, None],\n",
    "    \"min_samples_split\": [2, 5]\n",
    "}\n",
    "\n",
    "grid_rf = GridSearchCV(RandomForestRegressor(random_state=42), param_rf, cv=5, scoring='neg_mean_squared_error')\n",
    "grid_rf.fit(X_train, y_train)\n",
    "rf_best = grid_rf.best_estimator_"
   ]
  },
  {
   "cell_type": "markdown",
   "id": "086e8871",
   "metadata": {},
   "source": [
    "## Ajouter un modèle moderne : XGBRegressor"
   ]
  },
  {
   "cell_type": "code",
   "execution_count": null,
   "id": "2b5dd9cd",
   "metadata": {},
   "outputs": [],
   "source": [
    "# Modèle XGBoost\n",
    "xgb = XGBRegressor(random_state=42, eval_metric='rmse')\n",
    "xgb.fit(X_train, y_train)"
   ]
  },
  {
   "cell_type": "markdown",
   "id": "d74655fd",
   "metadata": {},
   "source": [
    "## Test MSE sur divers models (valeurs global)\n",
    "\n",
    "### 🧾 Rappel : qu’est-ce que le MSE ?\n",
    "\n",
    "Le MSE (Mean Squared Error) mesure l’écart moyen au carré entre les vraies valeurs (y_test) et les valeurs prédites (y_pred).\n",
    "- Un MSE proche de 0 = bonnes prédictions.\n",
    "- Un MSE élevé = le modèle se trompe souvent ou fortement.\n",
    "- ⚠️ Comme l’erreur est au carré, les grosses erreurs pèsent très lourd."
   ]
  },
  {
   "cell_type": "code",
   "execution_count": null,
   "id": "05c0ba67",
   "metadata": {},
   "outputs": [],
   "source": [
    "# Regrouper les modèles\n",
    "models = {\n",
    "    \"Linear Regression\": lr,\n",
    "    \"Decision Tree (base)\": dt,\n",
    "    \"Decision Tree (grid)\": dt_best,\n",
    "    \"Random Forest (base)\": rf,\n",
    "    \"Random Forest (grid)\": rf_best,\n",
    "    \"XGBoost\": xgb\n",
    "}\n",
    "\n",
    "# Évaluer chaque modèle sur le test\n",
    "results = []\n",
    "for name, model in models.items():\n",
    "    y_pred = model.predict(X_test)\n",
    "    mse = mean_squared_error(y_test, y_pred)\n",
    "    rmse = np.sqrt(mse)\n",
    "    mae = mean_absolute_error(y_test, y_pred)\n",
    "    r2 = r2_score(y_test, y_pred)\n",
    "    results.append({\"Modèle\": name, \"MSE\": mse, \"RMSE\": rmse, \"MAE\": mae, \"R2 Score\": r2})\n",
    "\n",
    "# Tableau comparatif global\n",
    "results_df = pd.DataFrame(results).sort_values(\"MSE\")\n",
    "print(\"🔎 Résultats globaux (tous types confondus) :\")\n",
    "print(results_df)\n"
   ]
  },
  {
   "cell_type": "markdown",
   "id": "bf96144f",
   "metadata": {},
   "source": [
    "Résultats par appartement et maison si Code type local est présent :"
   ]
  },
  {
   "cell_type": "markdown",
   "id": "22d9a4d3",
   "metadata": {},
   "source": [
    "## 📊 Résultats Globaux (Tous types de logements)\n",
    "|🔢 Rang|🧠 Modèle|🎯 MSE (erreur quadratique moyenne)|\n",
    "|---|---|---|\n",
    "|🥇 1|\tRandom Forest (base)|\t23 246\n",
    "|🥈 2|\tXGBoost\t|25 710\n",
    "|🥉 3|\tRandom Forest (grid search)|\t30 591\n",
    "|4|\tDecision Tree (base)|\t46 314\n",
    "|5|\tDecision Tree (grid search)|\t46 314\n",
    "|6|\tLinear Regression|\t85 739\n",
    "\n",
    "### 🧠 Interprétation rapide :\n",
    "- ✅ Le meilleur modèle est le Random Forest (base) avec le MSE le plus bas (≈ 23 000), ce qui signifie qu’il prédit les prix au m² avec le moins d’erreurs moyennes.\n",
    "- 🤖 XGBoost arrive en 2ᵉ position, assez proche en performance, ce qui confirme sa robustesse.\n",
    "- ⚙️ Le grid search n’a pas amélioré Random Forest ni Decision Tree ici — probablement à cause d’un espace d’hyperparamètres sous-optimal ou un surapprentissage.\n",
    "- 📉 Linear Regression est le moins performant, avec un MSE bien plus élevé — ce modèle linéaire simple ne capture pas bien la complexité du marché immobilier.\n",
    "\n",
    "### 🧪 Pourquoi c’est important ?\n",
    "- Le MSE (Mean Squared Error) mesure l’écart quadratique moyen entre les valeurs prédites et réelles. Plus il est bas, plus les prédictions sont précises.\n",
    "- En comparant plusieurs modèles, on peut identifiez celui qui s’adapte le mieux à vos données."
   ]
  },
  {
   "cell_type": "markdown",
   "id": "a927d8d2",
   "metadata": {},
   "source": [
    "## Test MSE sur divers models (valeurs séparé)\n",
    "\n",
    "### ❓ Pourquoi séparer maisons et appartements ?\n",
    "\n",
    "### 1. Des caractéristiques différentes\n",
    "\n",
    "|Variable|\tAppartements|\tMaisons\n",
    "|---|---|---|\n",
    "|Surface terrain|\tSouvent nulle ou absente|\tTrès variable et importante\n",
    "|Nombre pièces|\tPlus faible en général|\tPlus élevé\n",
    "|Prix/m²|\tSouvent plus élevé|\tMoins élevé (car plus de m²)\n",
    "\n",
    "### 2. Des comportements prix ≠\n",
    "- Le prix au m² dépend différemment des variables selon le type :\n",
    "- Pour un appartement, la surface du terrain est inutile.\n",
    "- Pour une maison, elle peut être cruciale.\n",
    "- Les interactions entre variables ne sont pas les mêmes.\n",
    "\n",
    "### 3. Moins de bruit pour l'entraînement\n",
    "- Si tu mélanges, le modèle apprend un compromis flou :\n",
    "    - Il risque d’être moyennement bon partout, mais excellent nulle part.\n",
    "- En séparant :\n",
    "    - Le modèle se spécialise sur un type unique de structure de données.\n",
    "    - Donc les performances sont nettement meilleures."
   ]
  },
  {
   "cell_type": "code",
   "execution_count": null,
   "id": "6a47abad",
   "metadata": {},
   "outputs": [],
   "source": [
    "# Code type local : 1 = appartement, 2 = maison\n",
    "if \"Code type local\" in df.columns:\n",
    "    for type_code, label in zip([1, 2], [\"Appartements\", \"Maisons\"]):\n",
    "        print(f\"\\n🏘️ Résultats pour {label} :\")\n",
    "        mask = X_test[\"Code type local\"] == type_code\n",
    "        if mask.sum() == 0:\n",
    "            print(\"Pas d'observations.\")\n",
    "            continue\n",
    "        sub_results = []\n",
    "        for name, model in models.items():\n",
    "            y_pred = model.predict(X_test[mask])\n",
    "            mse = mean_squared_error(y_test[mask], y_pred)\n",
    "            rmse = np.sqrt(mse)\n",
    "            mae = mean_absolute_error(y_test[mask], y_pred)\n",
    "            r2 = r2_score(y_test[mask], y_pred)\n",
    "            sub_results.append({\"Modèle\": name, \"MSE\": mse, \"RMSE\": rmse, \"MAE\": mae, \"R2 Score\": r2})\n",
    "        sub_df = pd.DataFrame(sub_results).sort_values(\"MSE\")\n",
    "        print(sub_df)"
   ]
  },
  {
   "cell_type": "markdown",
   "id": "1a8c7b51",
   "metadata": {},
   "source": [
    "## 🏢 Résultats pour les Appartements\n",
    "|🏆 Rang|\t🧠 Modèle|\t🎯 MSE (Erreur quadratique moyenne)\n",
    "|---|---|---\n",
    "|🥇 1|\tXGBoost|\t6 614\n",
    "|🥈 2|\tRandom Forest (grid)|\t9 856\n",
    "|🥉 3|\tRandom Forest (base)|\t10 926\n",
    "|4|\tDecision Tree (base)|\t19 915\n",
    "|5|\tDecision Tree (grid)|\t19 915\n",
    "|6|\tLinear Regression|\t32 354\n",
    "\n",
    "### ✅ Interprétation (Appartements) :\n",
    "- XGBoost est le plus performant avec le MSE le plus bas.\n",
    "- Les modèles Random Forest donnent aussi de bons résultats.\n",
    "- Les arbres de décision simples et surtout la régression linéaire sont nettement moins précis.\n",
    "- Cela suggère que la structure non linéaire du marché des appartements est bien mieux capturée par XGBoost ou Random Forest.\n",
    "\n",
    "## 🏠 Résultats pour les Maisons\n",
    "|🏆 Rang|\t🧠 Modèle|\t🎯 MSE (Erreur quadratique moyenne)\n",
    "|---|---|---\n",
    "|🥇 1|\tRandom Forest (base)|\t28 769\n",
    "|🥈 2|\tXGBoost|\t34 271\n",
    "|🥉 3|\tRandom Forest (grid)|\t39 887\n",
    "|4|\tDecision Tree (base)|\t58 148\n",
    "|5|\tDecision Tree (grid)|\t58 148\n",
    "|6|\tLinear Regression|\t109 670\n",
    "\n",
    "### ✅ Interprétation (Maisons) :\n",
    "- Random Forest (base) est ici meilleur que XGBoost – probablement car les maisons ont plus de variabilité de terrain, mieux gérée par les forêts aléatoires.\n",
    "- Les modèles linéaires sont les moins adaptés à ce type de bien, car la relation entre les variables est fortement non linéaire (surface terrain, bâti, etc.).\n",
    "- XGBoost reste compétitif, mais pas aussi dominant que pour les appartements.\n",
    "\n",
    "## 🧠 Pourquoi séparer Appartements & Maisons ❓\n",
    "|⚠️ Problème si on mélange|\t✅ Avantage en séparant\n",
    "|---|---\n",
    "|Relations différentes entre les variables (ex: terrain quasi nul pour appartements)|\tChaque modèle apprend des relations spécifiques à chaque type\n",
    "|Biais d’entraînement dus à des distributions mixtes|\tAmélioration claire des précisions par sous-groupe\n",
    "|Mauvais calcul du prix au m² si les deux sont mélangés|\tMoins d’erreurs, meilleur MSE et meilleure généralisation\n"
   ]
  },
  {
   "cell_type": "markdown",
   "id": "dff2bfcc",
   "metadata": {},
   "source": [
    "## Sauvegarde"
   ]
  },
  {
   "cell_type": "code",
   "execution_count": null,
   "id": "9ef82848",
   "metadata": {},
   "outputs": [],
   "source": [
    "joblib.dump(xgb, \"../models/modele_appartement_xgb.joblib\")\n",
    "print(\"✅ Modèle XGBoost sauvegardé sous 'models/modele_appartement_xgb.joblib'\")\n",
    "\n",
    "joblib.dump(rf, \"../models/modele_maison_rf.joblib\")\n",
    "print(\"✅ Modèle sauvegardé sous 'models/modele_maison_rf.joblib'\")"
   ]
  }
 ],
 "metadata": {
  "kernelspec": {
   "display_name": ".venv",
   "language": "python",
   "name": "python3"
  },
  "language_info": {
   "codemirror_mode": {
    "name": "ipython",
    "version": 3
   },
   "file_extension": ".py",
   "mimetype": "text/x-python",
   "name": "python",
   "nbconvert_exporter": "python",
   "pygments_lexer": "ipython3",
   "version": "3.10.0"
  }
 },
 "nbformat": 4,
 "nbformat_minor": 5
}
