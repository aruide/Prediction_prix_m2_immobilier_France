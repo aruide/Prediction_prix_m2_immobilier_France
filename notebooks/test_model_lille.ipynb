{
 "cells": [
  {
   "cell_type": "markdown",
   "id": "a00e9857",
   "metadata": {},
   "source": [
    "# 🧠 Modélisation des prix au m² – Ville de Lille\n",
    "\n",
    "Dans ce notebook, nous entraînons et comparons plusieurs modèles de machine learning pour prédire le **prix au m²** de logements (appartements et maisons) à Lille, à partir des données filtrées issues de la base DVF 2022.\n",
    "\n",
    "L'objectif est d'identifier le modèle offrant la **meilleure précision**, puis de le conserver pour l’API de prédiction finale."
   ]
  },
  {
   "cell_type": "markdown",
   "id": "16f8c03e",
   "metadata": {},
   "source": [
    "## 📦 Importation des bibliothèques\n",
    "\n",
    "On commence par importer toutes les bibliothèques nécessaires pour :\n",
    "- la manipulation de données (`pandas`, `numpy`),\n",
    "- la visualisation (`matplotlib`, `seaborn`),\n",
    "- les modèles de machine learning (`scikit-learn`, `xgboost`),\n",
    "- les métriques d’évaluation,\n",
    "- la sérialisation des modèles (`joblib`).\n",
    "\n"
   ]
  },
  {
   "cell_type": "code",
   "execution_count": null,
   "id": "bb6a8d72",
   "metadata": {},
   "outputs": [],
   "source": [
    "import pandas as pd\n",
    "import numpy as np\n",
    "import matplotlib.pyplot as plt\n",
    "import seaborn as sns\n",
    "import os\n",
    "import seaborn as sns\n",
    "import joblib\n",
    "\n",
    "from xgboost import XGBRegressor\n",
    "\n",
    "from sklearn.model_selection import train_test_split, GridSearchCV\n",
    "from sklearn.ensemble import RandomForestRegressor, VotingRegressor\n",
    "from sklearn.linear_model import LinearRegression\n",
    "from sklearn.tree import DecisionTreeRegressor\n",
    "from sklearn.metrics import mean_squared_error, mean_absolute_error, r2_score\n",
    "from sklearn.pipeline import Pipeline\n",
    "from sklearn.preprocessing import StandardScaler"
   ]
  },
  {
   "cell_type": "markdown",
   "id": "b69df01b",
   "metadata": {},
   "source": [
    "## 📥 Chargement des données\n",
    "\n",
    "On charge les données nettoyées de Lille depuis un fichier `.parquet`, puis on filtre pour ne garder que les biens immobiliers avec **exactement 4 pièces**. Cela permet de standardiser les observations pour une comparaison plus fiable.\n"
   ]
  },
  {
   "cell_type": "code",
   "execution_count": null,
   "id": "e542a82d",
   "metadata": {},
   "outputs": [],
   "source": [
    "# Chargement depuis parquet\n",
    "df = pd.read_parquet(\"../data/clean/lille_2022.parquet\")\n",
    "\n",
    "# Filtrer biens avec exactement 4 pièces principales\n",
    "df_4p = df[df['Nombre pieces principales'] == 4].copy()"
   ]
  },
  {
   "cell_type": "markdown",
   "id": "491ff2ca",
   "metadata": {},
   "source": [
    "## 📊 Sélection des colonnes\n",
    "\n",
    "On sélectionne les colonnes pertinentes pour l'entraînement du modèle, notamment :\n",
    "- la surface bâtie,\n",
    "- le nombre de lots,\n",
    "- la surface de terrain,\n",
    "- la valeur foncière,\n",
    "- le type de logement (appartement ou maison),\n",
    "- le prix au m² (notre variable cible)."
   ]
  },
  {
   "cell_type": "code",
   "execution_count": null,
   "id": "bd1ac991",
   "metadata": {},
   "outputs": [],
   "source": [
    "colonnes_a_garder = [\n",
    "    'Surface reelle bati',\n",
    "    'Nombre pieces principales',\n",
    "    'Nombre de lots',\n",
    "    'Valeur fonciere',\n",
    "    'Surface terrain',\n",
    "    'Code type local',\n",
    "    'prix_m2'\n",
    "]\n",
    "\n",
    "df_logements = df_4p[colonnes_a_garder].copy()"
   ]
  },
  {
   "cell_type": "markdown",
   "id": "89431089",
   "metadata": {},
   "source": [
    "## 🔍 Inspection des types de données\n",
    "\n",
    "On vérifie les types de colonnes pour s'assurer qu’il n’y a pas d’incohérences avant de procéder aux transformations."
   ]
  },
  {
   "cell_type": "code",
   "execution_count": null,
   "id": "a1c56f7a",
   "metadata": {},
   "outputs": [],
   "source": [
    "df_logements.dtypes"
   ]
  },
  {
   "cell_type": "markdown",
   "id": "f3fb97f8",
   "metadata": {},
   "source": [
    "## 🧼 Nettoyage des valeurs manquantes\n",
    "\n",
    "- Les surfaces de terrain sont remplacées par `0` si elles sont manquantes.\n",
    "- Cela est logique car certains logements, comme des appartements, peuvent ne pas avoir de terrain associé.\n",
    "- On supprime ensuite les lignes restantes avec des valeurs nulles et les doublons."
   ]
  },
  {
   "cell_type": "code",
   "execution_count": null,
   "id": "63168867",
   "metadata": {},
   "outputs": [],
   "source": [
    "# Remplacer Surface terrain NaN par 0 pour les appartements (Code type local == 2)\n",
    "df_logements.loc[\n",
    "    (df_logements[\"Code type local\"] == 2) & (df_logements[\"Surface terrain\"].isna()),\n",
    "    \"Surface terrain\"\n",
    "] = 0\n",
    "\n",
    "# Remplacer Surface terrain NaN par 0 pour les maisons (Code type local == 1)\n",
    "df_logements.loc[\n",
    "    (df_logements[\"Code type local\"] == 1) & (df_logements[\"Surface terrain\"].isna()),\n",
    "    \"Surface terrain\"\n",
    "] = 0\n",
    "\n",
    "df_logements = df_logements.dropna()\n",
    "df_logements = df_logements.drop_duplicates()\n",
    "\n",
    "print(len(df_logements))"
   ]
  },
  {
   "cell_type": "markdown",
   "id": "25a22946",
   "metadata": {},
   "source": [
    "## 🏠 Séparation entre maisons et appartements\n",
    "\n",
    "On sépare les données selon le type de bien (`Code type local`) :\n",
    "- `1` correspond aux maisons,\n",
    "- `2` aux appartements.\n",
    "\n",
    "Cela permet de créer des modèles spécifiques à chaque type de bien."
   ]
  },
  {
   "cell_type": "code",
   "execution_count": null,
   "id": "8da0500e",
   "metadata": {},
   "outputs": [],
   "source": [
    "#séparation du dataset\n",
    "df_maison = df_logements[df_logements[\"Code type local\"] == 1]\n",
    "df_appartement = df_logements[df_logements[\"Code type local\"] == 2]"
   ]
  },
  {
   "cell_type": "markdown",
   "id": "fd276af5",
   "metadata": {},
   "source": [
    "## 🚨 Détection des outliers\n",
    "\n",
    "Fonction pour détecter les valeurs aberrantes (outliers) à l’aide de l’IQR (interquartile range) :\n",
    "- Les valeurs situées à plus de 3 fois l’IQR au-dessus ou en dessous de Q1/Q3 sont considérées comme extrêmes.\n",
    "- Cela permet de repérer les anomalies dans des colonnes comme `prix_m2`."
   ]
  },
  {
   "cell_type": "code",
   "execution_count": null,
   "id": "a7866225",
   "metadata": {},
   "outputs": [],
   "source": [
    "def detect_outliers(df, column):\n",
    "    \n",
    "    Q1 = df[column].quantile(0.25)\n",
    "    Q3 = df[column].quantile(0.75)\n",
    "    IQR = Q3 - Q1\n",
    "\n",
    "    lower_bound = Q1 - 3 * IQR\n",
    "    upper_bound = Q3 + 3 * IQR\n",
    "\n",
    "    outliers = df[(df[column] < lower_bound) | (df[column] > upper_bound)]\n",
    "\n",
    "    return lower_bound, upper_bound, outliers"
   ]
  },
  {
   "cell_type": "markdown",
   "id": "b75162a1",
   "metadata": {},
   "source": [
    "## 🔍 Visualisation des valeurs aberrantes détectées\n",
    "\n",
    "On affiche les valeurs extrêmes détectées dans la colonne `prix_m2` pour les maisons et les appartements. Ces valeurs seront ensuite corrigées ou supprimées pour éviter de fausser l’apprentissage des modèles."
   ]
  },
  {
   "cell_type": "code",
   "execution_count": null,
   "id": "e04e78ef",
   "metadata": {},
   "outputs": [],
   "source": [
    "# Pour df_logements\n",
    "print(\"📦 Outliers prix_m2 (maisons) :\")\n",
    "print(detect_outliers(df_maison, \"prix_m2\")[2], \"\\n\")\n",
    "\n",
    "print(\"📦 Outliers prix_m2 (appartements) :\")\n",
    "print(detect_outliers(df_appartement, \"prix_m2\")[2], \"\\n\")"
   ]
  },
  {
   "cell_type": "markdown",
   "id": "7708bcb8",
   "metadata": {},
   "source": [
    "## 🧽 Nettoyage des outliers\n",
    "\n",
    "Deux fonctions sont utilisées :\n",
    "- `remove_outliers()` : supprime directement les lignes avec valeurs extrêmes.\n",
    "- `median_outliers()` : remplace les valeurs aberrantes par la **médiane** de la colonne concernée, afin de conserver plus d'observations sans biais extrême.\n",
    "\n",
    "On applique ici `median_outliers` à toutes les colonnes importantes :\n",
    "- `prix_m2`\n",
    "- `Nombre de lots`\n",
    "- `Surface terrain`\n",
    "- `Surface reelle bati`"
   ]
  },
  {
   "cell_type": "code",
   "execution_count": null,
   "id": "06828a0b",
   "metadata": {},
   "outputs": [],
   "source": [
    "def remove_outliers(df, column):\n",
    "    lower, upper, _ = detect_outliers(df, column)\n",
    "    return df[(df[column] >= lower) & (df[column] <= upper)]\n",
    "\n",
    "def median_outliers(df, column):\n",
    "    lower, upper, _ = detect_outliers(df, column)\n",
    "    mediane = df[column].median()\n",
    "    df.loc[(df[column] < lower) | (df[column] > upper), column] = mediane\n",
    "    return df"
   ]
  },
  {
   "cell_type": "markdown",
   "id": "2b520748",
   "metadata": {},
   "source": [
    "## ✅ Résultat après nettoyage\n",
    "\n",
    "On affiche le nombre de lignes restantes pour chaque dataset (`maison` et `appartement`) après le remplacement des outliers. Cela permet de vérifier qu’aucune donnée n’a été supprimée."
   ]
  },
  {
   "cell_type": "code",
   "execution_count": null,
   "id": "ea7f5f06",
   "metadata": {},
   "outputs": [],
   "source": [
    "df_maison_clean = median_outliers(df_maison, \"prix_m2\")\n",
    "df_appartement_clean = median_outliers(df_appartement, \"prix_m2\")\n",
    "\n",
    "df_maison_clean = median_outliers(df_maison, \"Nombre de lots\")\n",
    "df_appartement_clean = median_outliers(df_appartement, \"Nombre de lots\")\n",
    "\n",
    "df_maison_clean = median_outliers(df_maison, \"Surface terrain\")\n",
    "df_appartement_clean = median_outliers(df_appartement, \"Surface terrain\")\n",
    "\n",
    "df_maison_clean = median_outliers(df_maison, \"Surface reelle bati\")\n",
    "df_appartement_clean = median_outliers(df_appartement, \"Surface reelle bati\")\n",
    "\n",
    "\n",
    "print(len(df_maison_clean))\n",
    "print(len(df_appartement_clean))"
   ]
  },
  {
   "cell_type": "markdown",
   "id": "72f4a353",
   "metadata": {},
   "source": [
    "## 📊 Visualisation de la distribution du prix au m²\n",
    "Cette section permet de visualiser la répartition des prix au m² pour les maisons et les appartements à Lille, avant tout entraînement de modèle. Cela permet d’identifier les tendances globales et de détecter visuellement d’éventuelles valeurs extrêmes."
   ]
  },
  {
   "cell_type": "code",
   "execution_count": null,
   "id": "56d8c894",
   "metadata": {},
   "outputs": [],
   "source": [
    "# Créer la figure et les 2 sous-graphiques côte à côte\n",
    "fig, axs = plt.subplots(1, 2, figsize=(14, 5), sharey=True)\n",
    "\n",
    "# --- 1. Histogramme pour les maisons ---\n",
    "axs[0].hist(df_maison_clean['prix_m2'], bins=30, color='orange', edgecolor='w')\n",
    "axs[0].axvline(np.median(df_maison_clean['prix_m2']), color='red', linestyle='--', label='Médiane')\n",
    "axs[0].set_title(\"Maisons - prix_m2\")\n",
    "axs[0].set_xlabel(\"prix_m2\")\n",
    "axs[0].set_ylabel(\"Nombre de biens\")\n",
    "axs[0].grid(True)\n",
    "axs[0].legend()\n",
    "\n",
    "# --- 2. Histogramme pour les appartements ---\n",
    "axs[1].hist(df_appartement_clean['prix_m2'], bins=30, color='orange', edgecolor='w')\n",
    "axs[1].axvline(np.median(df_appartement_clean['prix_m2']), color='red', linestyle='--', label='Médiane')\n",
    "axs[1].set_title(\"Appartements - prix_m2\")\n",
    "axs[1].set_xlabel(\"prix_m2\")\n",
    "axs[1].grid(True)\n",
    "axs[1].legend()\n",
    "\n",
    "# Ajuster l'espacement\n",
    "plt.tight_layout()\n",
    "plt.show()"
   ]
  },
  {
   "cell_type": "markdown",
   "id": "35bce45a",
   "metadata": {},
   "source": [
    "## 🧼 Nettoyage complémentaire des extrêmes de prix_m2\n",
    "\n",
    "Afin d’améliorer la qualité des données d'entraînement, un filtrage manuel des outliers a été appliqué sur le prix au m². L’objectif est d’écarter les valeurs aberrantes susceptibles de fausser l’apprentissage des modèles.\n",
    "\n",
    "### 🎯 Règles appliquées :\n",
    "- **Maisons** : uniquement les biens dont le prix au m² est **compris entre 1 500 € et 5 000 €**\n",
    "- **Appartements** : uniquement les biens dont le prix au m² **est compris entre 2 000 € et 7 000 €**\n",
    "\n",
    "### 🧠 Pourquoi ce choix ?\n",
    "Ce filtrage permet :\n",
    "- De réduire l’impact des valeurs aberrantes ou mal saisies dans le fichier DVF (ex : erreurs humaines, ventes atypiques),\n",
    "- De renforcer la stabilité des modèles de régression, qui sont sensibles aux grandes variations de valeurs cibles,\n",
    "- D’obtenir des prédictions plus réalistes sur la majorité des biens du marché."
   ]
  },
  {
   "cell_type": "code",
   "execution_count": null,
   "id": "d7fc2919",
   "metadata": {},
   "outputs": [],
   "source": [
    "# Pour les maisons\n",
    "df_maisons = df_maison_clean[(df_maison_clean[\"prix_m2\"] >= 1500) & (df_maison_clean[\"prix_m2\"] <= 5000)]\n",
    "\n",
    "# # Pour les appartements\n",
    "df_appartements = df_appartement_clean[(df_appartement_clean[\"prix_m2\"] >= 2000) & (df_appartement_clean[\"prix_m2\"] <= 7000)]\n",
    "\n",
    "df_maisons = df_maison_clean\n",
    "df_appartements = df_appartement_clean"
   ]
  },
  {
   "cell_type": "markdown",
   "id": "850dd4a4",
   "metadata": {},
   "source": [
    "## 📊 Revisualisation de la distribution du prix au m²"
   ]
  },
  {
   "cell_type": "code",
   "execution_count": null,
   "id": "bcf6b472",
   "metadata": {},
   "outputs": [],
   "source": [
    "# Créer la figure et les 2 sous-graphiques côte à côte\n",
    "fig, axs = plt.subplots(1, 2, figsize=(14, 5), sharey=True)\n",
    "\n",
    "# --- 1. Histogramme pour les maisons ---\n",
    "axs[0].hist(df_maisons['prix_m2'], bins=30, color='orange', edgecolor='w')\n",
    "axs[0].axvline(np.median(df_maisons['prix_m2']), color='red', linestyle='--', label='Médiane')\n",
    "axs[0].set_title(\"Maisons - prix_m2\")\n",
    "axs[0].set_xlabel(\"prix_m2\")\n",
    "axs[0].set_ylabel(\"Nombre de biens\")\n",
    "axs[0].grid(True)\n",
    "axs[0].legend()\n",
    "\n",
    "# --- 2. Histogramme pour les appartements ---\n",
    "axs[1].hist(df_appartements['prix_m2'], bins=30, color='orange', edgecolor='w')\n",
    "axs[1].axvline(np.median(df_appartements['prix_m2']), color='red', linestyle='--', label='Médiane')\n",
    "axs[1].set_title(\"Appartements - prix_m2\")\n",
    "axs[1].set_xlabel(\"prix_m2\")\n",
    "axs[1].grid(True)\n",
    "axs[1].legend()\n",
    "\n",
    "# Ajuster l'espacement\n",
    "plt.tight_layout()\n",
    "plt.show()"
   ]
  },
  {
   "cell_type": "markdown",
   "id": "e813a471",
   "metadata": {},
   "source": [
    "## 📈 Analyse de la corrélation entre variables\n",
    "Cette section permet d’étudier les relations linéaires entre les différentes caractéristiques des biens immobiliers et le prix au m² (prix_m2), séparément pour les maisons et les appartements.\n",
    "\n",
    "### 🧠 Intérêt de la corrélation :\n",
    "- Détecter les variables les plus liées au prix_m2, pour guider la sélection de features utiles à la modélisation.\n",
    "- Comprendre les interdépendances entre les variables (ex : surface terrain et surface bâtie).\n",
    "- Identifier des relations inutiles ou bruitées, pouvant être écartées dans les futurs modèles."
   ]
  },
  {
   "cell_type": "code",
   "execution_count": null,
   "id": "176384da",
   "metadata": {},
   "outputs": [],
   "source": [
    "# matrices de corrélation\n",
    "corr_maison = df_maisons[[\"Nombre de lots\",\n",
    "                        \"Surface terrain\", \"Surface reelle bati\", \"Nombre pieces principales\", \"prix_m2\"]].corr()\n",
    "corr_appartement = df_appartements[[\"Nombre de lots\",\n",
    "                        \"Surface terrain\", \"Surface reelle bati\", \"Nombre pieces principales\", \"prix_m2\"]].corr()\n",
    "\n",
    "# Création des sous-figures\n",
    "fig, axs = plt.subplots(1, 2, figsize=(16, 6))\n",
    "\n",
    "# Heatmap pour les maisons\n",
    "sns.heatmap(corr_maison, ax=axs[0], cmap='Oranges', annot=True, fmt=\".2f\")\n",
    "axs[0].set_title(\"Corrélation - Maisons\")\n",
    "\n",
    "# Heatmap pour les appartements\n",
    "sns.heatmap(corr_appartement, ax=axs[1], cmap='Oranges', annot=True, fmt=\".2f\")\n",
    "axs[1].set_title(\"Corrélation - Appartements\")\n",
    "\n",
    "plt.tight_layout()\n",
    "plt.show()"
   ]
  },
  {
   "cell_type": "markdown",
   "id": "d28016a2",
   "metadata": {},
   "source": [
    "## 📊 Séparation des variables (features et cible)\n",
    "\n",
    "On isole :\n",
    "- Les variables explicatives (features) : surface, terrain, type de logement, etc.\n",
    "- La variable cible (`prix_m2`) à prédire.\n",
    "\n",
    "Cette étape est nécessaire pour entraîner les modèles de machine learning."
   ]
  },
  {
   "cell_type": "code",
   "execution_count": null,
   "id": "89a7f60e",
   "metadata": {},
   "outputs": [],
   "source": [
    "features_maison = [\"Surface terrain\", \"Surface reelle bati\"]\n",
    "features_appartement = [\"Nombre de lots\", \"Surface reelle bati\"]\n",
    "\n",
    "# Données maisons\n",
    "X_maison = df_maisons[features_maison]\n",
    "y_maison = df_maisons[\"prix_m2\"]\n",
    "\n",
    "# Données appartements\n",
    "X_appartement = df_appartements[features_appartement]\n",
    "y_appartement = df_appartements[\"prix_m2\"]"
   ]
  },
  {
   "cell_type": "markdown",
   "id": "42ed462e",
   "metadata": {},
   "source": [
    "## 🧪 Découpage en jeu d'entraînement et de test\n",
    "\n",
    "Utilisation de `train_test_split()` :\n",
    "- **80%** des données pour l’entraînement\n",
    "- **20%** pour le test\n",
    "- On fixe un `random_state` pour rendre les expériences reproductibles.\n",
    "\n",
    "Cela permet d’évaluer la capacité du modèle à généraliser à des données jamais vues."
   ]
  },
  {
   "cell_type": "code",
   "execution_count": null,
   "id": "6f334e28",
   "metadata": {},
   "outputs": [],
   "source": [
    "# Split train/test\n",
    "X_train_maison, X_test_maison, y_train_maison, y_test_maison = train_test_split(\n",
    "    X_maison, y_maison, test_size=0.2, random_state=42\n",
    ")\n",
    "X_train_appartement, X_test_appartement, y_train_appartement, y_test_appartement = train_test_split(\n",
    "    X_appartement, y_appartement, test_size=0.2, random_state=42\n",
    ")"
   ]
  },
  {
   "cell_type": "markdown",
   "id": "af8c07fa",
   "metadata": {},
   "source": [
    "## 🔍 Optimisation des modèles : GridSearchCV\n",
    "Afin d'obtenir les meilleurs paramètres possibles pour nos modèles de régression, on utilise la méthode GridSearchCV. Cette technique permet de tester automatiquement plusieurs combinaisons d’hyperparamètres pour chaque algorithme, via une validation croisée à 5 plis (cv=5).\n",
    "\n",
    "### 📌 Objectif :\n",
    "Maximiser la performance des modèles en minimisant l’erreur quadratique moyenne négative (scoring=\"neg_mean_squared_error\"), ce qui revient à minimiser le MSE.\n",
    "\n",
    "### 🧪 Hyperparamètres testés\n",
    "\n",
    "1. DecisionTreeRegressor\n",
    "\n",
    "```python\n",
    "param_dt = {\n",
    "    \"max_depth\": [3, 5, 10, None],\n",
    "    \"min_samples_split\": [2, 5, 10]\n",
    "}\n",
    "```\n",
    "- `max_depth` : profondeur maximale de l’arbre,\n",
    "- `min_samples_split` : nombre minimal d’échantillons pour un split.\n",
    "\n",
    "2. RandomForestRegressor\n",
    "\n",
    "```python\n",
    "param_rf = {\n",
    "    \"n_estimators\": [50, 100],\n",
    "    \"max_depth\": [5, 10, None],\n",
    "    \"min_samples_split\": [2, 5]\n",
    "}\n",
    "```\n",
    "- `n_estimators` : nombre d’arbres dans la forêt,\n",
    "- `max_depth` et `min_samples_split` : mêmes rôles que pour l’arbre.\n",
    "\n",
    "3. XGBRegressor\n",
    "```python\n",
    "param_xgb = {\n",
    "    \"n_estimators\": [50, 100],\n",
    "    \"max_depth\": [3, 5, 10],\n",
    "    \"learning_rate\": [0.01, 0.1, 0.2],\n",
    "    \"subsample\": [0.8, 1],\n",
    "}\n",
    "```\n",
    "- `learning_rate` : taille des pas d’optimisation (influence sur la vitesse/apprentissage),\n",
    "- `subsample` : proportion d’échantillons utilisés pour chaque arbre (pour éviter l’overfitting).\n",
    "\n",
    "### ⚙️ Fonction optimize_models()\n",
    "Cette fonction effectue les étapes suivantes pour chaque algorithme :\n",
    "\n",
    "1. Lance un GridSearchCV avec les hyperparamètres spécifiés,\n",
    "2. Entraîne le modèle sur les données d’entraînement (X_train, y_train),\n",
    "3. Sélectionne le meilleur modèle trouvé (grâce à .best_estimator_),\n",
    "4. Affiche les meilleurs paramètres retenus,\n",
    "5. Retourne les trois modèles optimisés.\n",
    "\n",
    "### 🏠 Double entraînement : maison vs appartement\n",
    "La fonction est appelée deux fois :\n",
    "\n",
    "- Une fois sur les données des maisons (X_train_maison, y_train_maison),\n",
    "- Une autre sur celles des appartements (X_train_appartement, y_train_appartement).\n",
    "\n",
    "Cela permet de tenir compte des spécificités de chaque type de bien, et d’avoir des modèles spécialisés pour prédire le prix au m²."
   ]
  },
  {
   "cell_type": "code",
   "execution_count": null,
   "id": "d190d2e3",
   "metadata": {},
   "outputs": [],
   "source": [
    "# Paramètres pour GridSearch\n",
    "param_dt = {\n",
    "    \"max_depth\": [3, 5, 10, None],\n",
    "    \"min_samples_split\": [2, 5, 10]\n",
    "}\n",
    "\n",
    "param_rf = {\n",
    "    \"n_estimators\": [50, 100],\n",
    "    \"max_depth\": [5, 10, None],\n",
    "    \"min_samples_split\": [2, 5]\n",
    "}\n",
    "\n",
    "param_xgb = {\n",
    "    \"n_estimators\": [50, 100],\n",
    "    \"max_depth\": [3, 5, 10],\n",
    "    \"learning_rate\": [0.01, 0.1, 0.2],\n",
    "    \"subsample\": [0.8, 1],\n",
    "}\n",
    "\n",
    "def optimize_models(X_train, y_train):\n",
    "    # DecisionTree\n",
    "    grid_dt = GridSearchCV(\n",
    "        DecisionTreeRegressor(random_state=42),\n",
    "        param_dt,\n",
    "        cv=5,\n",
    "        scoring=\"neg_mean_squared_error\",\n",
    "        n_jobs=-1,\n",
    "    )\n",
    "    grid_dt.fit(X_train, y_train)\n",
    "    best_dt = grid_dt.best_estimator_\n",
    "    print(f\"Best Decision Tree params: {grid_dt.best_params_}\")\n",
    "\n",
    "    # RandomForest\n",
    "    grid_rf = GridSearchCV(\n",
    "        RandomForestRegressor(random_state=42),\n",
    "        param_rf,\n",
    "        cv=5,\n",
    "        scoring=\"neg_mean_squared_error\",\n",
    "        n_jobs=-1,\n",
    "    )\n",
    "    grid_rf.fit(X_train, y_train)\n",
    "    best_rf = grid_rf.best_estimator_\n",
    "    print(f\"Best Random Forest params: {grid_rf.best_params_}\")\n",
    "    \n",
    "    # XGBoost\n",
    "    grid_xgb = GridSearchCV(\n",
    "        XGBRegressor(random_state=42, tree_method='hist'),\n",
    "        param_xgb,\n",
    "        cv=5,\n",
    "        scoring=\"neg_mean_squared_error\",\n",
    "        n_jobs=-1,\n",
    "        verbose=0\n",
    "    )\n",
    "    grid_xgb.fit(X_train, y_train)\n",
    "    best_xgb = grid_xgb.best_estimator_\n",
    "    print(f\"Best XGBoost params: {grid_xgb.best_params_}\")\n",
    "\n",
    "    return best_dt, best_rf, best_xgb\n",
    "\n",
    "# Exemple d’appel\n",
    "best_dt_maison, best_rf_maison, best_xgb_maison = optimize_models(X_train_maison, y_train_maison)\n",
    "best_dt_appartement, best_rf_appartement, best_xgb_appartement = optimize_models(X_train_appartement, y_train_appartement)\n"
   ]
  },
  {
   "cell_type": "markdown",
   "id": "42661259",
   "metadata": {},
   "source": [
    "## 🤖 Entraînement de plusieurs modèles de régression\n",
    "\n",
    "On compare les performances de plusieurs algorithmes :\n",
    "- `LinearRegression` : modèle linéaire simple\n",
    "- `DecisionTreeRegressor` : arbre de décision\n",
    "- `RandomForestRegressor` : ensemble d'arbres (bagging)\n",
    "- `XGBRegressor` : boosting par gradient\n",
    "- `VotingRegressor` : combine les 4 modèles précédents\n",
    "\n",
    "L’objectif est d’identifier celui qui prédit le mieux le prix au m²."
   ]
  },
  {
   "cell_type": "code",
   "execution_count": null,
   "id": "d35982b5",
   "metadata": {},
   "outputs": [],
   "source": [
    "# VotingRegressor enrichi\n",
    "voting_maison = VotingRegressor(\n",
    "    estimators=[\n",
    "        (\"lr\", LinearRegression()),\n",
    "        (\"dt\", best_dt_maison),\n",
    "        (\"rf\", best_rf_maison),\n",
    "        (\"xgb\", best_xgb_maison)\n",
    "    ]\n",
    ")\n",
    "\n",
    "voting_appartement = VotingRegressor(\n",
    "    estimators=[\n",
    "        (\"lr\", LinearRegression()),\n",
    "        (\"dt\", best_dt_appartement),\n",
    "        (\"rf\", best_rf_appartement),\n",
    "        (\"xgb\", best_xgb_appartement)\n",
    "    ]\n",
    ")\n",
    "\n",
    "# Pipelines\n",
    "pipeline_maison = Pipeline([\n",
    "    (\"scaler\", StandardScaler()),\n",
    "    (\"voting\", voting_maison),\n",
    "])\n",
    "\n",
    "pipeline_appartement = Pipeline([\n",
    "    (\"scaler\", StandardScaler()),\n",
    "    (\"voting\", voting_appartement),\n",
    "])\n",
    "\n",
    "pipeline_maison.fit(X_train_maison, y_train_maison)\n",
    "pipeline_appartement.fit(X_train_appartement, y_train_appartement)"
   ]
  },
  {
   "cell_type": "markdown",
   "id": "55b28bc1",
   "metadata": {},
   "source": [
    "## 📈 Évaluation des modèles sur le jeu de test\n",
    "\n",
    "Pour chaque modèle, on calcule :\n",
    "- `MSE` : l'erreur quadratique moyenne\n",
    "- `RMSE` : la racine de l'erreur quadratique moyenne\n",
    "- `MAE` : l'erreur absolue moyenne\n",
    "- `R2 score`: la proportion de la variance de la variable cible\n",
    "\n",
    "Cela nous permet de comparer leur précision et robustesse.\n"
   ]
  },
  {
   "cell_type": "code",
   "execution_count": null,
   "id": "acff3614",
   "metadata": {},
   "outputs": [],
   "source": [
    "def compare_models(X_train, X_test, y_train, y_test, bien_label, best_dt, best_rf, best_xgb, pipeline_votingRegressor):\n",
    "    models = {\n",
    "        \"LinearRegression\": LinearRegression(),\n",
    "        \"DecisionTree\": best_dt,\n",
    "        \"RandomForest\": best_rf,\n",
    "        \"XGBoost\": best_xgb,\n",
    "        \"VotingRegressor\": pipeline_votingRegressor\n",
    "    }\n",
    "\n",
    "    pipeline_export = {}\n",
    "    results = []\n",
    "    for name, model in models.items():\n",
    "        pipe = Pipeline([\n",
    "            (\"scaler\", StandardScaler()),\n",
    "            (\"model\", model)\n",
    "        ])\n",
    "        pipe.fit(X_train, y_train)\n",
    "        pipeline_export[name] = pipe\n",
    "        y_pred = pipe.predict(X_test)\n",
    "        mse = mean_squared_error(y_test, y_pred)\n",
    "        rmse = np.sqrt(mse)\n",
    "        mae = mean_absolute_error(y_test, y_pred)\n",
    "        r2 = r2_score(y_test, y_pred)\n",
    "        results.append({\n",
    "            \"Modele\": name,\n",
    "            \"MSE\": mse,\n",
    "            \"RMSE\": rmse,\n",
    "            \"MAE\": mae,\n",
    "            \"R2\": r2\n",
    "        })\n",
    "\n",
    "    df_result = pd.DataFrame(results).sort_values(by=\"MSE\")\n",
    "    print(f\"\\n📋 Résultats comparatifs - {bien_label}\")\n",
    "    print(df_result.to_string(index=False))\n",
    "    return results, pipeline_export, df_result\n",
    "\n",
    "# Comparaison pour maisons et appartements\n",
    "results_maisons, pipeline_modele_maison, dt_classement_maison = compare_models(\n",
    "    X_train_maison, X_test_maison, y_train_maison, y_test_maison,\n",
    "    \"MAISON\", best_dt_maison, best_rf_maison, best_xgb_maison, pipeline_maison\n",
    ")\n",
    "\n",
    "results_appartements, pipeline_modele_appartement, dt_classement_appartement = compare_models(\n",
    "    X_train_appartement, X_test_appartement, y_train_appartement, y_test_appartement,\n",
    "    \"APPARTEMENT\", best_dt_appartement, best_rf_appartement, best_xgb_appartement, pipeline_appartement\n",
    ")"
   ]
  },
  {
   "cell_type": "markdown",
   "id": "939ed344",
   "metadata": {},
   "source": [
    "## 💾 Sauvegarde des meilleurs modèles\n",
    "\n",
    "On sauvegarde le meilleur modèle via `joblib.dump()` pour le réutiliser dans l'API FastAPI.\n",
    "\n",
    "Deux modèles sont sauvegardés :\n",
    "- Un pour les maisons\n",
    "- Un pour les appartements"
   ]
  },
  {
   "cell_type": "code",
   "execution_count": null,
   "id": "9ef82848",
   "metadata": {},
   "outputs": [],
   "source": [
    "import json\n",
    "\n",
    "result = {\n",
    "    \"maison\": results_maisons,\n",
    "    \"appartement\": results_appartements\n",
    "}\n",
    "\n",
    "# #Sauvegarde des données dans un fichier JSON\n",
    "with open(\"resultats_modeles_maison_appartement.json\", \"w\", encoding=\"utf-8\") as f:\n",
    "    json.dump(result, f, ensure_ascii=False, indent=2)\n",
    "\n",
    "# 💾 Sauvegarde des pipelines\n",
    "joblib.dump(pipeline_modele_maison, \"../models/pipeline_maison_models.pkl\")\n",
    "joblib.dump(pipeline_modele_appartement, \"../models/pipeline_appartement_models.pkl\")\n",
    "\n",
    "dt_classement_maison\n",
    "\n",
    "meilleur_modele_maison = dt_classement_maison.iloc[0][\"Modele\"]\n",
    "meilleur_modele_appartement = dt_classement_appartement.iloc[0][\"Modele\"]\n",
    "\n",
    "# 💾 Sauvegarde des modeles pour Lille\n",
    "os.makedirs(\"../app/models/Lille\", exist_ok=True)\n",
    "joblib.dump(pipeline_modele_maison[meilleur_modele_maison], \"../app/models/Lille/models_maison_Lille.pkl\")\n",
    "joblib.dump(pipeline_modele_appartement[meilleur_modele_appartement], \"../app/models/Lille/models_appartement_Lille.pkl\")"
   ]
  }
 ],
 "metadata": {
  "kernelspec": {
   "display_name": ".venv",
   "language": "python",
   "name": "python3"
  },
  "language_info": {
   "codemirror_mode": {
    "name": "ipython",
    "version": 3
   },
   "file_extension": ".py",
   "mimetype": "text/x-python",
   "name": "python",
   "nbconvert_exporter": "python",
   "pygments_lexer": "ipython3",
   "version": "3.10.0"
  }
 },
 "nbformat": 4,
 "nbformat_minor": 5
}
